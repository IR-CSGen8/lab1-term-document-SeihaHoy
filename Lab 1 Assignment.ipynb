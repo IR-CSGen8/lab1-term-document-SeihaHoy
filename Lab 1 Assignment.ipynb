{
 "cells": [
  {
   "cell_type": "code",
   "execution_count": 105,
   "id": "34e21f62",
   "metadata": {},
   "outputs": [
    {
     "name": "stdout",
     "output_type": "stream",
     "text": [
      "This article covers the basics of using Pandas in Python.\n",
      "Learn about data visualization techniques with Python libraries.\n",
      "Analyze sales data using Python for a real-world case study.\n"
     ]
    }
   ],
   "source": [
    "# Define the documents as a dictionary where keys are document titles and values are document content\n",
    "documents = {\n",
    "    \"Article: Pandas Basics\": \"This article covers the basics of using Pandas in Python.\",\n",
    "    \"Tutorial: Data Visualization\": \"Learn about data visualization techniques with Python libraries.\",\n",
    "    \"Case Study: Sales Analysis\": \"Analyze sales data using Python for a real-world case study.\"\n",
    "}\n",
    "\n",
    "\n",
    "for keys, values in documents.items():\n",
    "    print(values)"
   ]
  },
  {
   "cell_type": "code",
   "execution_count": 48,
   "id": "ee8fdf0c",
   "metadata": {},
   "outputs": [
    {
     "name": "stdout",
     "output_type": "stream",
     "text": [
      "['Article: Pandas Basics', 'Tutorial: Data Visualization', 'Case Study: Sales Analysis']\n"
     ]
    }
   ],
   "source": [
    "# get the keys of the documents and store it in the list\n",
    "# key_documents = {key for doc in documents for key in doc.split(\",\")}\n",
    "key_documents = list(documents.keys())\n",
    "\n",
    "# display the list of the key documents\n",
    "print(key_documents)"
   ]
  },
  {
   "cell_type": "code",
   "execution_count": 49,
   "id": "e5398841",
   "metadata": {},
   "outputs": [
    {
     "name": "stdout",
     "output_type": "stream",
     "text": [
      "['Article', 'Tutorial', 'Case Study']\n"
     ]
    }
   ],
   "source": [
    "# Extract the category of the key documents and store it \n",
    "# category = {cat for key in key_documents for cat in key.split(\":\")}\n",
    "category = []\n",
    "for key in key_documents:\n",
    "    category.append(key.split(':')[0])\n",
    "    \n",
    "print(category)"
   ]
  },
  {
   "cell_type": "code",
   "execution_count": 35,
   "id": "a5353707",
   "metadata": {},
   "outputs": [
    {
     "name": "stdout",
     "output_type": "stream",
     "text": [
      "['This article covers the basics of using Pandas in Python.', 'Learn about data visualization techniques with Python libraries.', 'Analyze sales data using Python for a real-world case study.']\n"
     ]
    }
   ],
   "source": [
    "\n",
    "# Extract the content values and put them in a list\n",
    "document_content_list = list(documents.values())\n",
    "\n",
    "# Display the list of document content\n",
    "print(document_content_list)"
   ]
  },
  {
   "cell_type": "code",
   "execution_count": 53,
   "id": "bedcd86f",
   "metadata": {},
   "outputs": [
    {
     "data": {
      "text/plain": [
       "['This',\n",
       " 'article',\n",
       " 'covers',\n",
       " 'the',\n",
       " 'basics',\n",
       " 'of',\n",
       " 'using',\n",
       " 'Pandas',\n",
       " 'in',\n",
       " 'Python.',\n",
       " 'Learn',\n",
       " 'about',\n",
       " 'data',\n",
       " 'visualization',\n",
       " 'techniques',\n",
       " 'with',\n",
       " 'Python',\n",
       " 'libraries.',\n",
       " 'Analyze',\n",
       " 'sales',\n",
       " 'data',\n",
       " 'using',\n",
       " 'Python',\n",
       " 'for',\n",
       " 'a',\n",
       " 'real-world',\n",
       " 'case',\n",
       " 'study.']"
      ]
     },
     "execution_count": 53,
     "metadata": {},
     "output_type": "execute_result"
    }
   ],
   "source": [
    "# Gather the set of all unique terms from the list content of document and diplay the result\n",
    "unique_terms = []\n",
    "for doc in document_content_list:\n",
    "        terms = list(doc.split())\n",
    "        for term in terms:\n",
    "                unique_terms.append(term)\n",
    "\n",
    "# unique_terms = {term for doc in document_content_list for term in doc.split()}\n",
    "unique_terms"
   ]
  },
  {
   "cell_type": "code",
   "execution_count": 38,
   "id": "41334ffd",
   "metadata": {},
   "outputs": [
    {
     "data": {
      "text/plain": [
       "{'of': [1, 0, 0],\n",
       " 'Pandas': [1, 0, 0],\n",
       " 'about': [0, 1, 0],\n",
       " 'with': [0, 1, 0],\n",
       " 'Python.': [1, 0, 0],\n",
       " 'a': [1, 1, 1],\n",
       " 'data': [0, 1, 1],\n",
       " 'sales': [0, 0, 1],\n",
       " 'using': [1, 0, 1],\n",
       " 'the': [1, 0, 0],\n",
       " 'case': [0, 0, 1],\n",
       " 'libraries.': [0, 1, 0],\n",
       " 'article': [1, 0, 0],\n",
       " 'in': [1, 0, 1],\n",
       " 'for': [0, 0, 1],\n",
       " 'study.': [0, 0, 1],\n",
       " 'Python': [1, 1, 1],\n",
       " 'visualization': [0, 1, 0],\n",
       " 'techniques': [0, 1, 0],\n",
       " 'Analyze': [0, 0, 1],\n",
       " 'This': [1, 0, 0],\n",
       " 'real-world': [0, 0, 1],\n",
       " 'Learn': [0, 1, 0],\n",
       " 'basics': [1, 0, 0],\n",
       " 'covers': [1, 0, 0]}"
      ]
     },
     "execution_count": 38,
     "metadata": {},
     "output_type": "execute_result"
    }
   ],
   "source": [
    "# create a matrix for the document by using the unique term\n",
    "doc_term_matrix = {}\n",
    "\n",
    "# your code here\n",
    "for term in unique_terms:\n",
    "    doc_term_matrix[term] = []\n",
    "\n",
    "    for doc in document_content_list:\n",
    "        if term in doc:\n",
    "            doc_term_matrix[term].append(1)\n",
    "        else: doc_term_matrix[term].append(0)\n",
    "\n",
    "# display the result of the matrix\n",
    "doc_term_matrix"
   ]
  },
  {
   "cell_type": "code",
   "execution_count": 108,
   "id": "a8a41b23",
   "metadata": {},
   "outputs": [
    {
     "name": "stdout",
     "output_type": "stream",
     "text": [
      "['This article covers the basics of using Pandas in Python.'\n",
      " 'Learn about data visualization techniques with Python libraries.'\n",
      " 'Analyze sales data using Python for a real-world case study.']\n",
      "[1 0 0]\n",
      "[1 1 1]\n",
      "-------\n",
      "[1 0 0]\n",
      "['This article covers the basics of using Pandas in Python.']\n"
     ]
    },
    {
     "data": {
      "text/plain": [
       "[' Pandas Basics']"
      ]
     },
     "execution_count": 108,
     "metadata": {},
     "output_type": "execute_result"
    }
   ],
   "source": [
    "# import the numpy library if it doesn't work you need to install numpy\n",
    "import numpy as np\n",
    "\n",
    "docs_array = np.array(document_content_list, dtype='object')\n",
    "# docs_arrays = np.array(documents)\n",
    "print(docs_array)\n",
    "\n",
    "v1 = np.array(doc_term_matrix['the'])    \n",
    "v2 = np.array(doc_term_matrix['Python'])\n",
    "\n",
    "print(v1)\n",
    "print(v2)\n",
    "print('-------')\n",
    "\n",
    "# find the documents that have both terms from v1 and v2\n",
    "v3 = v1 & v2\n",
    "\n",
    "print(v3)\n",
    "\n",
    "# display the content document from the result\n",
    "# [doc for doc in v3 * docs_array if doc]\n",
    "result = list(doc for doc in v3 * docs_array if doc)\n",
    "print(result)\n",
    "\n",
    "# display the title of the document\n",
    "# [doc.keys() for doc in v3 * docs_arrays]\n",
    "# print(docs_arrays.size)\n",
    "[key.split(':')[1] for key, val in documents.items() for res in result if (res == val)]\n",
    "# for key,val in documents.items():\n",
    "#     for res in result:\n",
    "#         if res == val:\n",
    "#             print(key.split(':')[1])\n"
   ]
  },
  {
   "cell_type": "code",
   "execution_count": 42,
   "id": "11484192",
   "metadata": {},
   "outputs": [
    {
     "name": "stdout",
     "output_type": "stream",
     "text": [
      "[1 0 0]\n",
      "[1 1 1]\n",
      "-------\n",
      "[1 1 1]\n"
     ]
    },
    {
     "data": {
      "text/plain": [
       "['This article covers the basics of using Pandas in Python.',\n",
       " 'Learn about data visualization techniques with Python libraries.',\n",
       " 'Analyze sales data using Python for a real-world case study.']"
      ]
     },
     "execution_count": 42,
     "metadata": {},
     "output_type": "execute_result"
    }
   ],
   "source": [
    "# find the document for those have at least one word\n",
    "# import the numpy library if it doesn't work you need to install numpy\n",
    "import numpy as np\n",
    "\n",
    "docs_array = np.array(document_content_list, dtype='object')\n",
    "\n",
    "v1 = np.array(doc_term_matrix['the'])    \n",
    "v2 = np.array(doc_term_matrix['Python'])\n",
    "\n",
    "print(v1)\n",
    "print(v2)\n",
    "print('-------')\n",
    "\n",
    "# find the documents that have both terms from v1 and v2\n",
    "v3 = v1 | v2\n",
    "\n",
    "print(v3)\n",
    "\n",
    "# display the content document from the result\n",
    "[doc for doc in v3 * docs_array if doc]"
   ]
  }
 ],
 "metadata": {
  "kernelspec": {
   "display_name": "base",
   "language": "python",
   "name": "python3"
  },
  "language_info": {
   "codemirror_mode": {
    "name": "ipython",
    "version": 3
   },
   "file_extension": ".py",
   "mimetype": "text/x-python",
   "name": "python",
   "nbconvert_exporter": "python",
   "pygments_lexer": "ipython3",
   "version": "3.10.12"
  }
 },
 "nbformat": 4,
 "nbformat_minor": 5
}
