{
 "cells": [
  {
   "cell_type": "code",
   "execution_count": 3,
   "metadata": {},
   "outputs": [
    {
     "name": "stdout",
     "output_type": "stream",
     "text": [
      "     Title                               Content                           \n",
      "0  Document 1           This is the first document. It contains some words.\n",
      "1  Document 2  The second document is a bit longer and has different words.\n",
      "2  Document 3  The third document is short. Short documents can be concise.\n"
     ]
    }
   ],
   "source": [
    "import pandas as pd\n",
    "df = pd.read_csv('tdoc.csv', header=None, names=['Title', 'Content'])\n",
    "pd.options.display.colheader_justify = \"center\"\n",
    "print(df.to_string())\n",
    "\n"
   ]
  },
  {
   "cell_type": "code",
   "execution_count": 4,
   "metadata": {},
   "outputs": [
    {
     "name": "stdout",
     "output_type": "stream",
     "text": [
      "Title                                             Document 1\n",
      "Content    This is the first document. It contains some w...\n",
      "Name: 0, dtype: object\n",
      "Title                                             Document 2\n",
      "Content    The second document is a bit longer and has di...\n",
      "Name: 1, dtype: object\n",
      "Title                                             Document 3\n",
      "Content    The third document is short. Short documents c...\n",
      "Name: 2, dtype: object\n"
     ]
    }
   ],
   "source": [
    "for index, row in df.iterrows():\n",
    "    print(row)"
   ]
  },
  {
   "cell_type": "code",
   "execution_count": 5,
   "metadata": {},
   "outputs": [
    {
     "name": "stdout",
     "output_type": "stream",
     "text": [
      "['Document 1', 'Document 2', 'Document 3']\n"
     ]
    }
   ],
   "source": [
    "key_documents = list(df[\"Title\"])\n",
    "\n",
    "# Print the extracted rows\n",
    "print(key_documents)"
   ]
  },
  {
   "cell_type": "code",
   "execution_count": 6,
   "metadata": {},
   "outputs": [
    {
     "data": {
      "text/plain": [
       "['This is the first document. It contains some words.',\n",
       " 'The second document is a bit longer and has different words.',\n",
       " 'The third document is short. Short documents can be concise.']"
      ]
     },
     "execution_count": 6,
     "metadata": {},
     "output_type": "execute_result"
    }
   ],
   "source": [
    "content = list(df[\"Content\"])\n",
    "\n",
    "# Print the extracted rows\n",
    "content"
   ]
  },
  {
   "cell_type": "code",
   "execution_count": 7,
   "metadata": {},
   "outputs": [
    {
     "data": {
      "text/plain": [
       "['This',\n",
       " 'is',\n",
       " 'the',\n",
       " 'first',\n",
       " 'document.',\n",
       " 'It',\n",
       " 'contains',\n",
       " 'some',\n",
       " 'words.',\n",
       " 'The',\n",
       " 'second',\n",
       " 'document',\n",
       " 'is',\n",
       " 'a',\n",
       " 'bit',\n",
       " 'longer',\n",
       " 'and',\n",
       " 'has',\n",
       " 'different',\n",
       " 'words.',\n",
       " 'The',\n",
       " 'third',\n",
       " 'document',\n",
       " 'is',\n",
       " 'short.',\n",
       " 'Short',\n",
       " 'documents',\n",
       " 'can',\n",
       " 'be',\n",
       " 'concise.']"
      ]
     },
     "execution_count": 7,
     "metadata": {},
     "output_type": "execute_result"
    }
   ],
   "source": [
    "# unique_term = {term for doc in content for term in doc.split()}\n",
    "unique_terms = []\n",
    "for doc in content:\n",
    "    terms = doc.split()\n",
    "    for term in terms:\n",
    "        unique_terms.append(term)\n",
    "\n",
    "unique_terms"
   ]
  },
  {
   "cell_type": "code",
   "execution_count": 77,
   "metadata": {},
   "outputs": [],
   "source": [
    "df2 = pd.DataFrame(unique_terms)\n",
    "\n",
    "\n",
    "df2.to_csv(\"tdoc2.csv\", header=False, index=False)"
   ]
  },
  {
   "cell_type": "code",
   "execution_count": 11,
   "metadata": {},
   "outputs": [
    {
     "data": {
      "text/plain": [
       "{'This': [1, 0, 0],\n",
       " 'is': [1, 1, 1],\n",
       " 'the': [1, 0, 0],\n",
       " 'first': [1, 0, 0],\n",
       " 'document.': [1, 0, 0],\n",
       " 'It': [1, 0, 0],\n",
       " 'contains': [1, 0, 0],\n",
       " 'some': [1, 0, 0],\n",
       " 'words.': [1, 1, 0],\n",
       " 'The': [0, 1, 1],\n",
       " 'second': [0, 1, 0],\n",
       " 'document': [1, 1, 1],\n",
       " 'a': [1, 1, 1],\n",
       " 'bit': [0, 1, 0],\n",
       " 'longer': [0, 1, 0],\n",
       " 'and': [0, 1, 0],\n",
       " 'has': [0, 1, 0],\n",
       " 'different': [0, 1, 0],\n",
       " 'third': [0, 0, 1],\n",
       " 'short.': [0, 0, 1],\n",
       " 'Short': [0, 0, 1],\n",
       " 'documents': [0, 0, 1],\n",
       " 'can': [0, 0, 1],\n",
       " 'be': [0, 0, 1],\n",
       " 'concise.': [0, 0, 1]}"
      ]
     },
     "execution_count": 11,
     "metadata": {},
     "output_type": "execute_result"
    }
   ],
   "source": [
    "doc_term_matrix = {}\n",
    "\n",
    "# your code here\n",
    "for term in unique_terms:\n",
    "    doc_term_matrix[term] = []\n",
    "\n",
    "    for doc in content:\n",
    "        # print(doc)\n",
    "        if term in doc:\n",
    "            doc_term_matrix[term].append(1)\n",
    "        else: doc_term_matrix[term].append(0)\n",
    "\n",
    "# display the result of the matrix\n",
    "doc_term_matrix"
   ]
  },
  {
   "cell_type": "code",
   "execution_count": 13,
   "metadata": {},
   "outputs": [
    {
     "name": "stdout",
     "output_type": "stream",
     "text": [
      "['This is the first document. It contains some words.'\n",
      " 'The second document is a bit longer and has different words.'\n",
      " 'The third document is short. Short documents can be concise.']\n",
      "[1 0 0]\n",
      "[1 1 1]\n",
      "-------\n",
      "[1 0 0]\n"
     ]
    },
    {
     "data": {
      "text/plain": [
       "['This is the first document. It contains some words.']"
      ]
     },
     "execution_count": 13,
     "metadata": {},
     "output_type": "execute_result"
    }
   ],
   "source": [
    "# import the numpy library if it doesn't work you need to install numpy\n",
    "import numpy as np\n",
    "\n",
    "docs_array = np.array(content, dtype='object')\n",
    "# docs_arrays = np.array(documents)\n",
    "print(docs_array)\n",
    "\n",
    "v1 = np.array(doc_term_matrix['the'])    \n",
    "v2 = np.array(doc_term_matrix['document'])\n",
    "\n",
    "print(v1)\n",
    "print(v2)\n",
    "print('-------')\n",
    "\n",
    "# find the documents that have both terms from v1 and v2\n",
    "v3 = v1 & v2\n",
    "\n",
    "print(v3)\n",
    "\n",
    "# display the content document from the result\n",
    "[doc for doc in v3 * docs_array if doc]\n",
    "# result = list(doc for doc in v3 * docs_array if doc)\n",
    "# print(result)\n",
    "\n",
    "# display the title of the document\n",
    "# [doc.keys() for doc in v3 * docs_arrays]"
   ]
  },
  {
   "cell_type": "code",
   "execution_count": 14,
   "metadata": {},
   "outputs": [
    {
     "name": "stdout",
     "output_type": "stream",
     "text": [
      "[1 0 0]\n",
      "[1 1 1]\n",
      "-------\n",
      "[1 1 1]\n"
     ]
    },
    {
     "data": {
      "text/plain": [
       "['This is the first document. It contains some words.',\n",
       " 'The second document is a bit longer and has different words.',\n",
       " 'The third document is short. Short documents can be concise.']"
      ]
     },
     "execution_count": 14,
     "metadata": {},
     "output_type": "execute_result"
    }
   ],
   "source": [
    "# find the document for those have at least one word\n",
    "# import the numpy library if it doesn't work you need to install numpy\n",
    "import numpy as np\n",
    "\n",
    "docs_array = np.array(content, dtype='object')\n",
    "\n",
    "v1 = np.array(doc_term_matrix['the'])    \n",
    "v2 = np.array(doc_term_matrix['document'])\n",
    "\n",
    "print(v1)\n",
    "print(v2)\n",
    "print('-------')\n",
    "\n",
    "# find the documents that have both terms from v1 and v2\n",
    "v3 = v1 | v2\n",
    "\n",
    "print(v3)\n",
    "\n",
    "# display the content document from the result\n",
    "[doc for doc in v3 * docs_array if doc]"
   ]
  }
 ],
 "metadata": {
  "kernelspec": {
   "display_name": "Python 3",
   "language": "python",
   "name": "python3"
  },
  "language_info": {
   "codemirror_mode": {
    "name": "ipython",
    "version": 3
   },
   "file_extension": ".py",
   "mimetype": "text/x-python",
   "name": "python",
   "nbconvert_exporter": "python",
   "pygments_lexer": "ipython3",
   "version": "3.10.12"
  },
  "orig_nbformat": 4
 },
 "nbformat": 4,
 "nbformat_minor": 2
}
